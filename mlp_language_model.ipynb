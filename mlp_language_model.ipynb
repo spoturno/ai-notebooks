{
 "cells": [
  {
   "cell_type": "code",
   "execution_count": 1,
   "id": "e9787a66",
   "metadata": {},
   "outputs": [],
   "source": [
    "# Begio et al. 2003 MLP languague model paper\n",
    "# https://www.jmlr.org/papers/volume3/bengio03a/bengio03a.pdf"
   ]
  },
  {
   "cell_type": "code",
   "execution_count": 115,
   "id": "a017222f",
   "metadata": {},
   "outputs": [],
   "source": [
    "import torch\n",
    "import torch.nn.functional as F\n",
    "import matplotlib.pyplot as plt \n",
    "%matplotlib inline "
   ]
  },
  {
   "cell_type": "code",
   "execution_count": 6,
   "id": "235457d4",
   "metadata": {},
   "outputs": [
    {
     "data": {
      "text/plain": [
       "['emma', 'olivia', 'ava', 'isabella', 'sophia', 'charlotte', 'mia', 'amelia']"
      ]
     },
     "execution_count": 6,
     "metadata": {},
     "output_type": "execute_result"
    }
   ],
   "source": [
    "# read in all words\n",
    "words = open('names.txt', 'r').read().splitlines()\n",
    "words[:8]"
   ]
  },
  {
   "cell_type": "code",
   "execution_count": 16,
   "id": "2a1ad604",
   "metadata": {},
   "outputs": [],
   "source": [
    "chars = sorted(list(set(''.join(words))))\n",
    "stoi = {s:i+1 for i,s in enumerate(chars)}\n",
    "stoi['.'] = 0\n",
    "itos = {i:s for s,i in stoi.items()}"
   ]
  },
  {
   "cell_type": "code",
   "execution_count": 143,
   "id": "2bd2ee83",
   "metadata": {},
   "outputs": [],
   "source": [
    "# build the dataset\n",
    "\n",
    "block_size = 3\n",
    "X, Y = [], []\n",
    "for w in words:\n",
    "    #print(w)\n",
    "    context = [0] * block_size\n",
    "    for ch in w + '.':\n",
    "        ix = stoi[ch]\n",
    "        X.append(context)\n",
    "        Y.append(ix)\n",
    "        #print(''.join(itos[i] for i in context), '--->', itos[ix])\n",
    "        context = context[1:] + [ix] # crop and append\n",
    "\n",
    "X = torch.tensor(X)\n",
    "Y = torch.tensor(Y)"
   ]
  },
  {
   "cell_type": "code",
   "execution_count": 144,
   "id": "cb972afe",
   "metadata": {},
   "outputs": [
    {
     "data": {
      "text/plain": [
       "(torch.Size([228146, 3]), torch.Size([228146]), torch.int64, torch.int64)"
      ]
     },
     "execution_count": 144,
     "metadata": {},
     "output_type": "execute_result"
    }
   ],
   "source": [
    "X.shape, Y.shape, X.dtype, Y.dtype"
   ]
  },
  {
   "cell_type": "code",
   "execution_count": 38,
   "id": "6a2fcd85",
   "metadata": {},
   "outputs": [],
   "source": [
    "C = torch.randn((27,2))"
   ]
  },
  {
   "cell_type": "code",
   "execution_count": 46,
   "id": "802b372d",
   "metadata": {},
   "outputs": [
    {
     "data": {
      "text/plain": [
       "torch.Size([32, 3, 2])"
      ]
     },
     "execution_count": 46,
     "metadata": {},
     "output_type": "execute_result"
    }
   ],
   "source": [
    "emb = C[X]\n",
    "emb.shape"
   ]
  },
  {
   "cell_type": "code",
   "execution_count": 48,
   "id": "bb5795eb",
   "metadata": {},
   "outputs": [],
   "source": [
    "W1 = torch.randn((6,100)) # number of inputs is 6\n",
    "b1 = torch.randn(100)"
   ]
  },
  {
   "cell_type": "code",
   "execution_count": 60,
   "id": "caa75125",
   "metadata": {},
   "outputs": [
    {
     "data": {
      "text/plain": [
       "tensor(1)"
      ]
     },
     "execution_count": 60,
     "metadata": {},
     "output_type": "execute_result"
    }
   ],
   "source": [
    "X[13,2]"
   ]
  },
  {
   "cell_type": "code",
   "execution_count": 73,
   "id": "b3dc2530",
   "metadata": {},
   "outputs": [
    {
     "data": {
      "text/plain": [
       "tensor([[ 1.0842, -0.6866,  1.0842, -0.6866,  1.0842, -0.6866],\n",
       "        [ 1.0842, -0.6866,  1.0842, -0.6866, -0.6395,  1.2357],\n",
       "        [ 1.0842, -0.6866, -0.6395,  1.2357, -1.2724,  0.6055],\n",
       "        [-0.6395,  1.2357, -1.2724,  0.6055, -1.2724,  0.6055],\n",
       "        [-1.2724,  0.6055, -1.2724,  0.6055,  0.3286, -0.9252],\n",
       "        [ 1.0842, -0.6866,  1.0842, -0.6866,  1.0842, -0.6866],\n",
       "        [ 1.0842, -0.6866,  1.0842, -0.6866, -0.2763, -0.5033],\n",
       "        [ 1.0842, -0.6866, -0.2763, -0.5033,  1.0843,  0.2175],\n",
       "        [-0.2763, -0.5033,  1.0843,  0.2175,  0.0412,  0.2237],\n",
       "        [ 1.0843,  0.2175,  0.0412,  0.2237,  0.4448,  0.7151],\n",
       "        [ 0.0412,  0.2237,  0.4448,  0.7151,  0.0412,  0.2237],\n",
       "        [ 0.4448,  0.7151,  0.0412,  0.2237,  0.3286, -0.9252],\n",
       "        [ 1.0842, -0.6866,  1.0842, -0.6866,  1.0842, -0.6866],\n",
       "        [ 1.0842, -0.6866,  1.0842, -0.6866,  0.3286, -0.9252],\n",
       "        [ 1.0842, -0.6866,  0.3286, -0.9252,  0.4448,  0.7151],\n",
       "        [ 0.3286, -0.9252,  0.4448,  0.7151,  0.3286, -0.9252],\n",
       "        [ 1.0842, -0.6866,  1.0842, -0.6866,  1.0842, -0.6866],\n",
       "        [ 1.0842, -0.6866,  1.0842, -0.6866,  0.0412,  0.2237],\n",
       "        [ 1.0842, -0.6866,  0.0412,  0.2237,  0.1866,  0.0793],\n",
       "        [ 0.0412,  0.2237,  0.1866,  0.0793,  0.3286, -0.9252],\n",
       "        [ 0.1866,  0.0793,  0.3286, -0.9252, -0.5881, -1.4413],\n",
       "        [ 0.3286, -0.9252, -0.5881, -1.4413, -0.6395,  1.2357],\n",
       "        [-0.5881, -1.4413, -0.6395,  1.2357,  1.0843,  0.2175],\n",
       "        [-0.6395,  1.2357,  1.0843,  0.2175,  1.0843,  0.2175],\n",
       "        [ 1.0843,  0.2175,  1.0843,  0.2175,  0.3286, -0.9252],\n",
       "        [ 1.0842, -0.6866,  1.0842, -0.6866,  1.0842, -0.6866],\n",
       "        [ 1.0842, -0.6866,  1.0842, -0.6866,  0.1866,  0.0793],\n",
       "        [ 1.0842, -0.6866,  0.1866,  0.0793, -0.2763, -0.5033],\n",
       "        [ 0.1866,  0.0793, -0.2763, -0.5033, -1.4112, -0.2778],\n",
       "        [-0.2763, -0.5033, -1.4112, -0.2778, -0.4607,  0.0588],\n",
       "        [-1.4112, -0.2778, -0.4607,  0.0588,  0.0412,  0.2237],\n",
       "        [-0.4607,  0.0588,  0.0412,  0.2237,  0.3286, -0.9252]])"
      ]
     },
     "execution_count": 73,
     "metadata": {},
     "output_type": "execute_result"
    }
   ],
   "source": [
    "# we want to do emb @ W1 + b1\n",
    "torch.cat([emb[:, 0, :], emb[:, 1, :], emb[:, 2, :]], 1)\n",
    "# but this is a bad way becaouse if we change the block_size we'll \n",
    "# have to change the code here"
   ]
  },
  {
   "cell_type": "code",
   "execution_count": 77,
   "id": "9ceaa907",
   "metadata": {},
   "outputs": [
    {
     "data": {
      "text/plain": [
       "torch.Size([32, 6])"
      ]
     },
     "execution_count": 77,
     "metadata": {},
     "output_type": "execute_result"
    }
   ],
   "source": [
    "torch.cat(torch.unbind(emb, 1), 1).shape"
   ]
  },
  {
   "cell_type": "code",
   "execution_count": 91,
   "id": "1bf9958b",
   "metadata": {},
   "outputs": [
    {
     "data": {
      "text/plain": [
       "tensor([[ 1.0842, -0.6866,  1.0842, -0.6866,  1.0842, -0.6866],\n",
       "        [ 1.0842, -0.6866,  1.0842, -0.6866, -0.6395,  1.2357],\n",
       "        [ 1.0842, -0.6866, -0.6395,  1.2357, -1.2724,  0.6055],\n",
       "        [-0.6395,  1.2357, -1.2724,  0.6055, -1.2724,  0.6055],\n",
       "        [-1.2724,  0.6055, -1.2724,  0.6055,  0.3286, -0.9252],\n",
       "        [ 1.0842, -0.6866,  1.0842, -0.6866,  1.0842, -0.6866],\n",
       "        [ 1.0842, -0.6866,  1.0842, -0.6866, -0.2763, -0.5033],\n",
       "        [ 1.0842, -0.6866, -0.2763, -0.5033,  1.0843,  0.2175],\n",
       "        [-0.2763, -0.5033,  1.0843,  0.2175,  0.0412,  0.2237],\n",
       "        [ 1.0843,  0.2175,  0.0412,  0.2237,  0.4448,  0.7151],\n",
       "        [ 0.0412,  0.2237,  0.4448,  0.7151,  0.0412,  0.2237],\n",
       "        [ 0.4448,  0.7151,  0.0412,  0.2237,  0.3286, -0.9252],\n",
       "        [ 1.0842, -0.6866,  1.0842, -0.6866,  1.0842, -0.6866],\n",
       "        [ 1.0842, -0.6866,  1.0842, -0.6866,  0.3286, -0.9252],\n",
       "        [ 1.0842, -0.6866,  0.3286, -0.9252,  0.4448,  0.7151],\n",
       "        [ 0.3286, -0.9252,  0.4448,  0.7151,  0.3286, -0.9252],\n",
       "        [ 1.0842, -0.6866,  1.0842, -0.6866,  1.0842, -0.6866],\n",
       "        [ 1.0842, -0.6866,  1.0842, -0.6866,  0.0412,  0.2237],\n",
       "        [ 1.0842, -0.6866,  0.0412,  0.2237,  0.1866,  0.0793],\n",
       "        [ 0.0412,  0.2237,  0.1866,  0.0793,  0.3286, -0.9252],\n",
       "        [ 0.1866,  0.0793,  0.3286, -0.9252, -0.5881, -1.4413],\n",
       "        [ 0.3286, -0.9252, -0.5881, -1.4413, -0.6395,  1.2357],\n",
       "        [-0.5881, -1.4413, -0.6395,  1.2357,  1.0843,  0.2175],\n",
       "        [-0.6395,  1.2357,  1.0843,  0.2175,  1.0843,  0.2175],\n",
       "        [ 1.0843,  0.2175,  1.0843,  0.2175,  0.3286, -0.9252],\n",
       "        [ 1.0842, -0.6866,  1.0842, -0.6866,  1.0842, -0.6866],\n",
       "        [ 1.0842, -0.6866,  1.0842, -0.6866,  0.1866,  0.0793],\n",
       "        [ 1.0842, -0.6866,  0.1866,  0.0793, -0.2763, -0.5033],\n",
       "        [ 0.1866,  0.0793, -0.2763, -0.5033, -1.4112, -0.2778],\n",
       "        [-0.2763, -0.5033, -1.4112, -0.2778, -0.4607,  0.0588],\n",
       "        [-1.4112, -0.2778, -0.4607,  0.0588,  0.0412,  0.2237],\n",
       "        [-0.4607,  0.0588,  0.0412,  0.2237,  0.3286, -0.9252]])"
      ]
     },
     "execution_count": 91,
     "metadata": {},
     "output_type": "execute_result"
    }
   ],
   "source": [
    "emb.shape\n",
    "# using torch.view is much more efficient\n",
    "emb.view(-1,6)"
   ]
  },
  {
   "cell_type": "code",
   "execution_count": 93,
   "id": "26f85711",
   "metadata": {},
   "outputs": [
    {
     "name": "stdout",
     "output_type": "stream",
     "text": [
      "torch.Size([32, 100])\n"
     ]
    },
    {
     "data": {
      "text/plain": [
       "tensor([[ 0.1135,  3.0319, -0.3902,  ..., -4.7438, -0.7729, -0.3375],\n",
       "        [-2.9865,  4.0693,  0.5317,  ..., -4.0000,  0.9762, -1.0733],\n",
       "        [-2.3678,  1.6744,  1.3119,  ..., -0.7264, -0.3911, -1.1906],\n",
       "        ...,\n",
       "        [-1.1539,  1.0592,  1.0292,  ...,  0.5560,  0.4982, -0.0511],\n",
       "        [ 0.5695, -1.1024,  1.3213,  ...,  2.1023,  1.3167,  1.1397],\n",
       "        [ 1.6760, -1.2278, -1.4130,  ...,  1.0866,  0.1989,  0.3191]])"
      ]
     },
     "execution_count": 93,
     "metadata": {},
     "output_type": "execute_result"
    }
   ],
   "source": [
    "h = emb.view(-1,6) @ W1 + b1\n",
    "print(h.shape)\n",
    "h"
   ]
  },
  {
   "cell_type": "code",
   "execution_count": 96,
   "id": "b7b4d359",
   "metadata": {},
   "outputs": [],
   "source": [
    "W2 = torch.randn(100, 27)\n",
    "b2 = torch.randn(27)"
   ]
  },
  {
   "cell_type": "code",
   "execution_count": 97,
   "id": "83173916",
   "metadata": {},
   "outputs": [],
   "source": [
    "logits = h @ W2 + b2"
   ]
  },
  {
   "cell_type": "code",
   "execution_count": 122,
   "id": "abea2e2e",
   "metadata": {},
   "outputs": [],
   "source": [
    "counts = logits.exp()\n",
    "probs = counts / counts.sum(1, keepdim=True)\n",
    "loss = - probs[torch.arange(32), Y].log().mean()\n",
    "# 3 previous lines are equal to:\n",
    "# F.cross_entropy(logits, Y)"
   ]
  },
  {
   "cell_type": "code",
   "execution_count": 116,
   "id": "f9aeb980",
   "metadata": {},
   "outputs": [
    {
     "data": {
      "text/plain": [
       "tensor(36.9321)"
      ]
     },
     "execution_count": 116,
     "metadata": {},
     "output_type": "execute_result"
    }
   ],
   "source": [
    "loss = F.cross_entropy(logits, Y)"
   ]
  },
  {
   "cell_type": "code",
   "execution_count": 129,
   "id": "94040f85",
   "metadata": {},
   "outputs": [],
   "source": [
    "# ------ resume with generator ------ #"
   ]
  },
  {
   "cell_type": "code",
   "execution_count": 168,
   "id": "b4193ca6",
   "metadata": {},
   "outputs": [
    {
     "data": {
      "text/plain": [
       "(torch.Size([228146, 3]), torch.Size([228146]))"
      ]
     },
     "execution_count": 168,
     "metadata": {},
     "output_type": "execute_result"
    }
   ],
   "source": [
    "X.shape, Y.shape # dataset"
   ]
  },
  {
   "cell_type": "code",
   "execution_count": 183,
   "id": "918c7d19",
   "metadata": {},
   "outputs": [],
   "source": [
    "g = torch.Generator().manual_seed(2147483647)\n",
    "C = torch.randn((27,2), generator=g)\n",
    "W1 = torch.randn((6,100), generator=g)\n",
    "b1 = torch.randn(100, generator=g)\n",
    "W2 = torch.randn((100, 27), generator=g)\n",
    "b2 = torch.randn(27, generator=g)\n",
    "parameters = [C, W1, b1, W2, b2]"
   ]
  },
  {
   "cell_type": "code",
   "execution_count": 184,
   "id": "c3435c28",
   "metadata": {},
   "outputs": [
    {
     "data": {
      "text/plain": [
       "3481"
      ]
     },
     "execution_count": 184,
     "metadata": {},
     "output_type": "execute_result"
    }
   ],
   "source": [
    "sum(p.nelement() for p in parameters) # number of total parameters"
   ]
  },
  {
   "cell_type": "code",
   "execution_count": 185,
   "id": "97e4f2bc",
   "metadata": {},
   "outputs": [],
   "source": [
    "for p in parameters:\n",
    "    p.requires_grad = True"
   ]
  },
  {
   "cell_type": "code",
   "execution_count": 186,
   "id": "a54f5070",
   "metadata": {},
   "outputs": [],
   "source": [
    "learning_rates_exp = torch.linspace(-3, 0, 1000)\n",
    "learning_rates = 10**learning_rates_exp"
   ]
  },
  {
   "cell_type": "code",
   "execution_count": 187,
   "id": "287684d3",
   "metadata": {},
   "outputs": [],
   "source": [
    "learning_rate_used = []\n",
    "losses = []\n",
    "\n",
    "for i in range(1000):\n",
    "    \n",
    "    # minibatch construct\n",
    "    ix = torch.randint(0, X.shape[0], (32,))\n",
    "    \n",
    "    # forward pass\n",
    "    emb = C[X[ix]] # (32, 3, 2)\n",
    "    h = torch.tanh(emb.view(-1, 6) @ W1 + b1) # (32, 100)\n",
    "    logits = h @ W2 + b2 # (32, 27)\n",
    "    loss = F.cross_entropy(logits, Y[ix])\n",
    "    #print(loss.item())\n",
    "\n",
    "    # backward paas\n",
    "    for p in parameters:\n",
    "        p.grad = None\n",
    "    loss.backward()\n",
    "\n",
    "    # update\n",
    "    lr = learning_rates[i]\n",
    "    for p in parameters:\n",
    "        p.data += -lr * p.grad\n",
    "        \n",
    "    # track stats\n",
    "    learning_rate_used.append(learning_rates_exp[i])\n",
    "    losses.append(loss.item())\n",
    "    "
   ]
  },
  {
   "cell_type": "code",
   "execution_count": 188,
   "id": "bb5b4591",
   "metadata": {},
   "outputs": [],
   "source": [
    "# the minibatch gradient descent does not use the exact gradient direction but It's \n",
    "# still a good option in practise"
   ]
  },
  {
   "cell_type": "code",
   "execution_count": 189,
   "id": "22a2f7f6",
   "metadata": {},
   "outputs": [
    {
     "data": {
      "text/plain": [
       "[<matplotlib.lines.Line2D at 0x7f02ae01d1b0>]"
      ]
     },
     "execution_count": 189,
     "metadata": {},
     "output_type": "execute_result"
    },
    {
     "data": {
      "image/png": "[encoded data removed]",
      "text/plain": [
       "<Figure size 640x480 with 1 Axes>"
      ]
     },
     "metadata": {},
     "output_type": "display_data"
    }
   ],
   "source": [
    "plt.plot(learning_rate_used, losses)"
   ]
  },
  {
   "cell_type": "code",
   "execution_count": 190,
   "id": "a52c3b5b",
   "metadata": {},
   "outputs": [],
   "source": [
    "# Now we know that 10^-1 is a good learning rate"
   ]
  },
  {
   "cell_type": "code",
   "execution_count": null,
   "id": "9c28e5e1",
   "metadata": {},
   "outputs": [],
   "source": []
  }
 ],
 "metadata": {
  "kernelspec": {
   "display_name": "Python 3 (ipykernel)",
   "language": "python",
   "name": "python3"
  },
  "language_info": {
   "codemirror_mode": {
    "name": "ipython",
    "version": 3
   },
   "file_extension": ".py",
   "mimetype": "text/x-python",
   "name": "python",
   "nbconvert_exporter": "python",
   "pygments_lexer": "ipython3",
   "version": "3.10.12"
  }
 },
 "nbformat": 4,
 "nbformat_minor": 5
}
